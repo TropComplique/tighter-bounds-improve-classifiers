{
 "cells": [
  {
   "cell_type": "code",
   "execution_count": null,
   "metadata": {
    "collapsed": true
   },
   "outputs": [],
   "source": [
    "%load_ext autoreload\n",
    "%autoreload 2"
   ]
  },
  {
   "cell_type": "code",
   "execution_count": null,
   "metadata": {
    "collapsed": true
   },
   "outputs": [],
   "source": [
    "import torch\n",
    "import torch.nn as nn\n",
    "import torch.optim as optim\n",
    "import torch.nn.functional as F\n",
    "from torch.utils.data import DataLoader\n",
    "from torch.autograd import Variable\n",
    "\n",
    "import math\n",
    "\n",
    "import sys\n",
    "sys.path.append('src/')\n",
    "from train_utils import train\n",
    "from get_model import Network\n",
    "from get_data import get_data\n",
    "from get_data_wrapper import TripleDataset\n",
    "\n",
    "import matplotlib.pyplot as plt\n",
    "%matplotlib inline\n",
    "\n",
    "# torch.cuda.is_available()\n",
    "# torch.backends.cudnn.benchmark = True"
   ]
  },
  {
   "cell_type": "markdown",
   "metadata": {},
   "source": [
    "# Load normalized data"
   ]
  },
  {
   "cell_type": "code",
   "execution_count": null,
   "metadata": {
    "collapsed": true
   },
   "outputs": [],
   "source": [
    "X_test, Y_test, X_val, Y_val, X_train, Y_train = get_data()"
   ]
  },
  {
   "cell_type": "markdown",
   "metadata": {},
   "source": [
    "# Create iterators"
   ]
  },
  {
   "cell_type": "code",
   "execution_count": null,
   "metadata": {
    "collapsed": true
   },
   "outputs": [],
   "source": [
    "train_data = TripleDataset(\n",
    "    torch.FloatTensor(X_train), \n",
    "    torch.LongTensor(Y_train), \n",
    "    torch.ones((len(Y_train), 1))\n",
    ")\n",
    "\n",
    "val_data = TripleDataset(\n",
    "    torch.FloatTensor(X_val), \n",
    "    torch.LongTensor(Y_val), \n",
    "    torch.ones((len(Y_val), 1))\n",
    ")"
   ]
  },
  {
   "cell_type": "code",
   "execution_count": null,
   "metadata": {
    "collapsed": true
   },
   "outputs": [],
   "source": [
    "batch_size = 128"
   ]
  },
  {
   "cell_type": "code",
   "execution_count": null,
   "metadata": {
    "collapsed": true
   },
   "outputs": [],
   "source": [
    "train_iterator = DataLoader(\n",
    "    train_data, batch_size=batch_size, shuffle=True\n",
    ")\n",
    "\n",
    "val_iterator = DataLoader(\n",
    "    val_data, batch_size=128, shuffle=False\n",
    ")\n",
    "\n",
    "n_train_samples = len(train_data)\n",
    "n_train_samples"
   ]
  },
  {
   "cell_type": "markdown",
   "metadata": {},
   "source": [
    "# Model"
   ]
  },
  {
   "cell_type": "code",
   "execution_count": null,
   "metadata": {
    "collapsed": true
   },
   "outputs": [],
   "source": [
    "class weighted_loss(nn.Module):\n",
    "\n",
    "    def __init__(self):\n",
    "        super(weighted_loss, self).__init__()\n",
    "        \n",
    "    def forward(self, logits, targets, sample_weights):\n",
    "        \n",
    "        x = F.log_softmax(logits)\n",
    "        x = torch.gather(x, 1, targets.view(-1, 1))        \n",
    "        \n",
    "        # return usual logloss and weighted logloss\n",
    "        return -x.mean(0), -(x*sample_weights).mean(0)"
   ]
  },
  {
   "cell_type": "code",
   "execution_count": null,
   "metadata": {
    "collapsed": true
   },
   "outputs": [],
   "source": [
    "model = Network(\n",
    "    input_dim=54, num_classes=7, \n",
    "    architecture=[100, 100], \n",
    "    dropout=[0.1, 0.1]\n",
    ")\n",
    "# model.cuda();"
   ]
  },
  {
   "cell_type": "code",
   "execution_count": null,
   "metadata": {
    "collapsed": true
   },
   "outputs": [],
   "source": [
    "weights = [\n",
    "    p for n, p in model.named_parameters()\n",
    "    if len(p.size()) == 2\n",
    "]\n",
    "biases = [\n",
    "    model.classifier[1].bias\n",
    "]\n",
    "bn_weights = [\n",
    "    p for n, p in model.named_parameters()\n",
    "    if 'bn.weight' in n\n",
    "]\n",
    "bn_biases = [\n",
    "    p for n, p in model.named_parameters()\n",
    "    if 'bn.bias' in n\n",
    "]"
   ]
  },
  {
   "cell_type": "code",
   "execution_count": null,
   "metadata": {
    "collapsed": true
   },
   "outputs": [],
   "source": [
    "criterion = weighted_loss()\n",
    "\n",
    "params = [\n",
    "    {'params': weights, 'weight_decay': 1e-4}, \n",
    "    {'params': biases + bn_weights + bn_biases}\n",
    "]\n",
    "optimizer = optim.Adam(params, lr=1e-3)"
   ]
  },
  {
   "cell_type": "markdown",
   "metadata": {},
   "source": [
    "# Train"
   ]
  },
  {
   "cell_type": "code",
   "execution_count": null,
   "metadata": {
    "collapsed": true
   },
   "outputs": [],
   "source": [
    "n_epochs = 50\n",
    "validation_step = 100\n",
    "reweight_epoch = 6\n",
    "n_batches = math.ceil(n_train_samples/batch_size)\n",
    "\n",
    "# total number of batches in the train set\n",
    "n_batches"
   ]
  },
  {
   "cell_type": "code",
   "execution_count": null,
   "metadata": {
    "collapsed": true
   },
   "outputs": [],
   "source": [
    "from torch.optim.lr_scheduler import ReduceLROnPlateau\n",
    "\n",
    "lr_scheduler = ReduceLROnPlateau(\n",
    "    optimizer, mode='max', factor=0.1, patience=10, \n",
    "    verbose=True, threshold=0.01, threshold_mode='abs'\n",
    ")"
   ]
  },
  {
   "cell_type": "code",
   "execution_count": null,
   "metadata": {
    "collapsed": true
   },
   "outputs": [],
   "source": [
    "all_losses = train(\n",
    "    model, criterion, optimizer, \n",
    "    train_iterator, n_epochs, steps_per_epoch=n_batches, \n",
    "    val_iterator=val_iterator, n_validation_batches=28,\n",
    "    reweight_epoch=100,\n",
    "    patience=10, threshold=0.01, lr_scheduler=lr_scheduler\n",
    ")"
   ]
  },
  {
   "cell_type": "markdown",
   "metadata": {},
   "source": [
    "# Loss/epoch"
   ]
  },
  {
   "cell_type": "code",
   "execution_count": null,
   "metadata": {
    "collapsed": true
   },
   "outputs": [],
   "source": [
    "plt.plot([x[0] for x in all_losses], label='train');\n",
    "plt.plot([x[1] for x in all_losses], label='test');\n",
    "plt.legend();\n",
    "plt.xlabel('epoch');\n",
    "plt.ylabel('loss');"
   ]
  },
  {
   "cell_type": "code",
   "execution_count": null,
   "metadata": {
    "collapsed": true
   },
   "outputs": [],
   "source": [
    "plt.plot([x[4] for x in all_losses], label='train');\n",
    "plt.plot([x[5] for x in all_losses], label='test');\n",
    "plt.legend();\n",
    "plt.xlabel('epoch');\n",
    "plt.ylabel('accuracy');"
   ]
  }
 ],
 "metadata": {
  "kernelspec": {
   "display_name": "Python 3",
   "language": "python",
   "name": "python3"
  },
  "language_info": {
   "codemirror_mode": {
    "name": "ipython",
    "version": 3
   },
   "file_extension": ".py",
   "mimetype": "text/x-python",
   "name": "python",
   "nbconvert_exporter": "python",
   "pygments_lexer": "ipython3",
   "version": "3.6.2"
  }
 },
 "nbformat": 4,
 "nbformat_minor": 2
}
